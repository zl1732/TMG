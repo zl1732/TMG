{
 "cells": [
  {
   "cell_type": "code",
   "execution_count": 51,
   "metadata": {
    "collapsed": false
   },
   "outputs": [
    {
     "data": {
      "text/plain": [
       "'Alex'"
      ]
     },
     "execution_count": 51,
     "metadata": {},
     "output_type": "execute_result"
    }
   ],
   "source": [
    "#hackland election\n",
    "num = {}\n",
    "sample = ['Alex','Alex','Alex','Alex','Harry','Adam','Dave','Dave','Adam','Dava','Dava','Dava']\n",
    "def find_max(sample):\n",
    "    for i in range(len(sample)):\n",
    "        num[sample[i]] =  sample.count(sample[i])   \n",
    "    index = sorted(num, key=num.get, reverse=True)\n",
    "    return index[0]\n",
    "\n",
    "find_max(sample)"
   ]
  },
  {
   "cell_type": "code",
   "execution_count": 48,
   "metadata": {
    "collapsed": false
   },
   "outputs": [],
   "source": [
    "# bfs\n",
    "from collections import deque \n",
    "def tom_jerry(x,y,Map): \n",
    "    queue = deque( [(x,y,None)]) \n",
    "    while len(queue)>0:\n",
    "        node = queue.popleft()\n",
    "        x = node[0]\n",
    "        y = node[1] \n",
    "        if Map[x][y] == \"2\":\n",
    "            return len(getpath(node))\n",
    "        if (Map[x][y]!=\"0\"): #if not path\n",
    "            continue \n",
    "        Map[x][y]=\"3\" #avoid repeating\n",
    "        for i in [[x-1,y],[x+1,y],[x,y-1],[x,y+1]]: #new spots to try \n",
    "            if i[0]>=len(Map) or i[1]>=len(Map[x]) or i[0]<0 or i[1]<0:\n",
    "                continue\n",
    "            queue.append((i[0],i[1],node))#create the new spot, with node as the parent \n",
    "    return -1# no solution\n",
    "            \n",
    "def getpath(node): \n",
    "    path = [] \n",
    "    while(node != None): \n",
    "        path.append((node[0],node[1])) \n",
    "        node = node[2] \n",
    "    return path \n",
    "\n"
   ]
  },
  {
   "cell_type": "code",
   "execution_count": 49,
   "metadata": {
    "collapsed": false
   },
   "outputs": [
    {
     "name": "stdout",
     "output_type": "stream",
     "text": [
      "shortest path:  3\n",
      "shortest path:  -1\n"
     ]
    }
   ],
   "source": [
    "Map1= [ [\"2\",\"0\",\"1\",\"1\"], \n",
    "        [\"1\",\"0\",\"0\",\"1\"], \n",
    "        [\"1\",\"1\",\"0\",\"1\"], \n",
    "        [\"1\",\"0\",\"0\",\"2\"], \n",
    "        [\"1\",\"2\",\"1\",\"1\"], \n",
    "        [\"1\",\"1\",\"1\",\"1\"], \n",
    "        ] \n",
    "\n",
    "Map2= [ [\"1\",\"0\",\"1\",\"1\"], \n",
    "        [\"1\",\"1\",\"0\",\"1\"], \n",
    "        [\"1\",\"1\",\"0\",\"1\"], \n",
    "        [\"1\",\"0\",\"0\",\"2\"], \n",
    "        [\"1\",\"2\",\"1\",\"1\"], \n",
    "        [\"1\",\"1\",\"1\",\"1\"], \n",
    "        ] \n",
    "# start from (1,1)\n",
    "print(\"shortest path: \",tom_jerry(1,1,Map1))\n",
    "# start from (0,1)\n",
    "print(\"shortest path: \",tom_jerry(0,1,Map2))"
   ]
  }
 ],
 "metadata": {
  "kernelspec": {
   "display_name": "Python 3",
   "language": "python",
   "name": "python3"
  },
  "language_info": {
   "codemirror_mode": {
    "name": "ipython",
    "version": 3
   },
   "file_extension": ".py",
   "mimetype": "text/x-python",
   "name": "python",
   "nbconvert_exporter": "python",
   "pygments_lexer": "ipython3",
   "version": "3.6.0"
  }
 },
 "nbformat": 4,
 "nbformat_minor": 2
}
